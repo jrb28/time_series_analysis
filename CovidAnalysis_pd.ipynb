{
 "cells": [
  {
   "cell_type": "markdown",
   "metadata": {},
   "source": [
    "# Covid Analysis\n",
    "\n",
    "This notebook analyzes the US Covid data from this web site: [The Covid Tracker: Data](https://covidtracking.com/data/download).  the data definitions can be found on a page linked form that initial page: [The Covid Tracker: Data Definition](https://covidtracking.com/about-data/data-definitions).\n",
    "\n",
    "The first level of analysis is to performa a moving average to find the 'average' shape of the curve for number of new cases, which is indicated by the field name <font face='courier'>positiveIncrease</font>.\n",
    "\n",
    "This example is for illustration of a data analysis and so, to save a bit of effort we will not worry about formatting the x-axis tickmark labels for clarity."
   ]
  },
  {
   "cell_type": "code",
   "execution_count": null,
   "metadata": {},
   "outputs": [],
   "source": [
    "%matplotlib inline\n",
    "import matplotlib.pyplot as plt\n",
    "import pandas as pd"
   ]
  },
  {
   "cell_type": "markdown",
   "metadata": {},
   "source": [
    "## Data Input with <font face='courier'>pandas</font>"
   ]
  },
  {
   "cell_type": "code",
   "execution_count": null,
   "metadata": {},
   "outputs": [],
   "source": [
    "df = pd.read_csv('national-history.csv')\n",
    "df.head()"
   ]
  },
  {
   "cell_type": "code",
   "execution_count": null,
   "metadata": {},
   "outputs": [],
   "source": [
    "df_nc = df[['date', 'positiveIncrease']]\n",
    "df_nc.head()"
   ]
  },
  {
   "cell_type": "code",
   "execution_count": null,
   "metadata": {},
   "outputs": [],
   "source": [
    "df_nc.dtypes"
   ]
  },
  {
   "cell_type": "markdown",
   "metadata": {},
   "source": [
    "Let's re-index the data so that it is from earliest to latest date chronologially, and then look at it."
   ]
  },
  {
   "cell_type": "code",
   "execution_count": null,
   "metadata": {},
   "outputs": [],
   "source": [
    "df_nc = df_nc.reindex(index=df_nc.index[::-1])\n",
    "df_nc.reset_index(inplace=True, drop=True)\n",
    "df_nc.head()"
   ]
  },
  {
   "cell_type": "markdown",
   "metadata": {},
   "source": [
    "Visualize the data.  What patterns or characteristics do you see?"
   ]
  },
  {
   "cell_type": "code",
   "execution_count": null,
   "metadata": {},
   "outputs": [],
   "source": [
    "fig,ax = plt.subplots()\n",
    "ax.plot(df_nc.index, df_nc.positiveIncrease, c='k')\n",
    "ax.set_xlabel('Day Number')\n",
    "ax.set_ylabel('Number of New Cases')\n",
    "ax.spines['right'].set_visible(False)\n",
    "ax.spines['top'].set_visible(False)\n",
    "#ax.vlines(100, 0, 75000, linestyles='dashed', colors=['gray'])\n",
    "plt.show()"
   ]
  },
  {
   "cell_type": "markdown",
   "metadata": {},
   "source": [
    "Next:\n",
    "\n",
    "- Let's compute and view a moving average to determine the overall average trend.\n",
    "- Then, subtract the trend from the original data to compute and view the remainder.  Are there obvious patterns in the remainder?\n",
    "\n",
    "The <font face='courier'>pandas</font> <font face='courier'>.rolling()</font> method picks out a series of rolling windows of specified length, jsut as we need for a moving average.  Applying <font face='courier'>.mean()</font> computes the average of each successive window.\n",
    "\n",
    "The idea here is to try multiple windows lengths to find a window length that gives a smooth appearance and looks to be a reasonable indication of the aaverage trend of the data.  None of the variability of the original data (e.g., seasonality and short-term cyclicality sould be reflected in this representation of the overall trend.  Notice that applying a moving average causes a decreased number of data points as is represented by the <font face='courier'>NaN</font> (not a number, null) values."
   ]
  },
  {
   "cell_type": "code",
   "execution_count": null,
   "metadata": {},
   "outputs": [],
   "source": [
    "mv_avg = df_nc.positiveIncrease.rolling(20, center=False).mean()\n",
    "mv_avg.head(n=25)"
   ]
  },
  {
   "cell_type": "markdown",
   "metadata": {},
   "source": [
    "Compute moving averages with <font face='courier'>pandas</font> <font face='courier'>.rolling()</font> method, insert it into the <font face='courier'>DataFrame</font> and, subsequently, compute the first residual.  Note that the argument <font face='courier'>center</font> is now set to <font face='courier'>True</font>: we will discuss its significance.  Note the <font face='courier'>NaN</font> values."
   ]
  },
  {
   "cell_type": "code",
   "execution_count": null,
   "metadata": {},
   "outputs": [],
   "source": [
    "mv_avg_period = 15\n",
    "df_nc['mv_avg'] = df_nc.positiveIncrease.rolling(mv_avg_period, center = True).mean()\n",
    "df_nc['R1'] = df_nc.positiveIncrease - df_nc.mv_avg\n",
    "df_nc[['mv_avg', 'R1']].iloc[mv_avg_period - 10 : mv_avg_period + 10]"
   ]
  },
  {
   "cell_type": "markdown",
   "metadata": {},
   "source": [
    "Compute sum of squared errors of current residual as an indication of fit."
   ]
  },
  {
   "cell_type": "code",
   "execution_count": null,
   "metadata": {},
   "outputs": [],
   "source": [
    "print('Sum of Squared Errors: %e' % (df_nc.R1**2).sum())"
   ]
  },
  {
   "cell_type": "code",
   "execution_count": null,
   "metadata": {},
   "outputs": [],
   "source": [
    "fig,ax = plt.subplots(2,1, sharex=True)\n",
    "ax[0].plot(df_nc.index,df_nc.positiveIncrease, c='k', label='Data')\n",
    "ax[0].plot(df_nc.index, df_nc.mv_avg, c='r', linestyle='--', label='Moving Avg.')\n",
    "ax[0].set_xlabel('Day Number')\n",
    "ax[0].set_ylabel('Number of New Cases')\n",
    "#ax[0].vlines(100, ax[0].get_ylim()[0],  ax[0].get_ylim()[1], linestyles='dashed', colors=['gray'])\n",
    "#ax[0].vlines(190, ax[0].get_ylim()[0],  ax[0].get_ylim()[1], linestyles='dashed', colors=['gray'])\n",
    "ax[0].legend()\n",
    "ax[0].set_title('Moving Average')\n",
    "ax[1].plot(df_nc.index, df_nc.R1, c='k')\n",
    "ax[1].set_xlabel('Day Number')\n",
    "ax[1].set_ylabel('Remainder After Moving Average')\n",
    "ax[1].set_title('Remainder')\n",
    "for i in range(len(ax)):\n",
    "    ax[i].spines['right'].set_visible(False)\n",
    "    ax[i].spines['top'].set_visible(False)\n",
    "fig.set_size_inches(8,11)\n",
    "plt.show()"
   ]
  },
  {
   "cell_type": "markdown",
   "metadata": {},
   "source": [
    "# A Linear Trend Model"
   ]
  },
  {
   "cell_type": "code",
   "execution_count": null,
   "metadata": {},
   "outputs": [],
   "source": [
    "from scipy import stats\n",
    "\n",
    "slope, intercept, r_value, p_value, std_err = stats.linregress(df_nc.index, df_nc.positiveIncrease)\n",
    "print('intercept =', intercept, '    slope =', slope, '     p_value = ',p_value)"
   ]
  },
  {
   "cell_type": "code",
   "execution_count": null,
   "metadata": {},
   "outputs": [],
   "source": [
    "df_nc['regress'] = intercept + slope * df_nc.index\n",
    "df_nc['R1_lin_trend'] = df_nc.positiveIncrease - df_nc.regress\n",
    "print('Sum of Squared Errors: %e' % (df_nc.R1_lin_trend**2).sum())"
   ]
  },
  {
   "cell_type": "markdown",
   "metadata": {},
   "source": [
    "Plot the data and the linear fit.  Note visually the remainder."
   ]
  },
  {
   "cell_type": "code",
   "execution_count": null,
   "metadata": {},
   "outputs": [],
   "source": [
    "fig,ax = plt.subplots(2,1, sharex=True)\n",
    "ax[0].plot(df_nc.index, df_nc.positiveIncrease, c='k', label='Data')\n",
    "ax[0].plot(df_nc.index,df_nc.regress, c='r', linestyle='--', label='Regression Model')\n",
    "ax[0].set_xlabel('Day Number')\n",
    "ax[0].set_ylabel('Number of New Cases')\n",
    "#ax[0].vlines(100, ax[0].get_ylim()[0],  ax[0].get_ylim()[1], linestyles='dashed', colors=['gray'])\n",
    "#ax[0].vlines(190, ax[0].get_ylim()[0],  ax[0].get_ylim()[1], linestyles='dashed', colors=['gray'])\n",
    "ax[0].legend()\n",
    "ax[1].plot(df_nc.index, df_nc.R1_lin_trend,c='k')\n",
    "ax[1].set_xlabel('Day Number')\n",
    "ax[1].set_ylabel('Remainder After Moving Average')\n",
    "for i in range(len(ax)):\n",
    "    ax[i].spines['right'].set_visible(False)\n",
    "    ax[i].spines['top'].set_visible(False)\n",
    "fig.set_size_inches(8,10)\n",
    "plt.show()"
   ]
  },
  {
   "cell_type": "markdown",
   "metadata": {},
   "source": [
    "## Autocorrelation Analysis (with nonlinear model)"
   ]
  },
  {
   "cell_type": "markdown",
   "metadata": {},
   "source": [
    "The results below demonstrate a clear pattern of 7-day cyclicality.  What might be causing it?\n",
    "\n",
    "Note that a period of 7 days is consistent with a weekly repeating cyclicality.  One issue with computing this cyclicality is that the magnitude of the current remainder is not of a constant magnitude."
   ]
  },
  {
   "cell_type": "code",
   "execution_count": null,
   "metadata": {},
   "outputs": [],
   "source": [
    "for i in range(1,21):\n",
    "    print('Correlation with lag %d:  %7.5f' % (i,df_nc['R1'].autocorr(lag = i)))"
   ]
  },
  {
   "cell_type": "markdown",
   "metadata": {},
   "source": [
    "The cell below computes the average value of the <font face='courier'>R1</font> values for each day of the week (e.g., Sunday, Monday, etc.) over the data range because a lag of 7 was positive and of the greatest magnitude, as shown in the cell above.  Note that adjustments to the data indices is required, using <font face='courier'>int(mv_avg_period/2)</font> to avoid making computations with the <font face='courier'>R1</font> values of <font face='courier'>NaN</font>."
   ]
  },
  {
   "cell_type": "code",
   "execution_count": null,
   "metadata": {},
   "outputs": [],
   "source": [
    "lag = 7\n",
    "num_rows = df_nc.shape[0] - mv_avg_period\n",
    "cycl = [sum([df_nc.R1.iloc[int(mv_avg_period/2) + j*lag + i] for j in range(int(num_rows/lag))])/int(num_rows/lag) for i in range(lag)]\n",
    "print(sum(cycl)*int(num_rows/lag), sum(df_nc.R1[int(mv_avg_period/2):int(df_nc.shape[0] -(mv_avg_period/2))]))\n",
    "print(cycl)"
   ]
  },
  {
   "cell_type": "code",
   "execution_count": null,
   "metadata": {},
   "outputs": [],
   "source": [
    "df_nc[['R1','mv_avg']].iloc[:20]"
   ]
  },
  {
   "cell_type": "markdown",
   "metadata": {},
   "source": [
    "A <font face='courier'>DataFrame</font> column for the cyclicality pattern is created in the  next cell, and also a column for the second residual, <font face='courier'>R2</font>.  The fit so far is assesed by computing the Sum of Squared Errors for <font face='courier'>R2</font>.\n",
    "\n",
    "Note that the first cyclic average may not correspond to the first row in the <font face='courier'>DataFrame</font>.  You must ensure that the first cyclic average computed is associated with the first <font face='courier'>DataFrame</font> row that does not have <font face='courier'>NaN</font> values in the moving average and <font face='courier'>R1</font> columns: this row's <font face='courier'>R1</font> value corresponds with the first cyclic average.  To do that, you can adjust the \"offset\" represented by the variable <font face='courier'>offset</font> in the statement below.  The appropriate value of <font face='courier'>offset</font> depends on the moving average window length you used.  The variable <font face='courier'>lag</font> refers to the period of the cyclicality, which is the lag of the greatest positive autocorrelation."
   ]
  },
  {
   "cell_type": "code",
   "execution_count": null,
   "metadata": {},
   "outputs": [],
   "source": [
    "# The offset variable compensate for the first seasonal factor being for period 10, which shuld refer to season 0\n",
    "offset = 7\n",
    "df_nc['cycl'] = [cycl[(i - offset)%lag] for i in range(df_nc.shape[0])]\n",
    "df_nc['R2'] = df_nc.R1 - df_nc.cycl\n",
    "df_nc.cycl.iloc[:20]"
   ]
  },
  {
   "cell_type": "markdown",
   "metadata": {},
   "source": [
    "Note the reduction in Sum of Squared Errors"
   ]
  },
  {
   "cell_type": "code",
   "execution_count": null,
   "metadata": {},
   "outputs": [],
   "source": [
    "print('Sum of Squared Errors: %e' % (df_nc.R2**2).sum())"
   ]
  },
  {
   "cell_type": "code",
   "execution_count": null,
   "metadata": {},
   "outputs": [],
   "source": [
    "fig,ax = plt.subplots(3,1, sharex=True)\n",
    "ax[0].plot(df_nc.index, df_nc.positiveIncrease, c='k', label='Data')\n",
    "ax[0].plot(df_nc.index,df_nc.mv_avg, c='r', linestyle='--', label='Moving Avg.')\n",
    "ax[0].set_xlabel('Day Number')\n",
    "ax[0].set_ylabel('Number of New Cases')\n",
    "ax[0].legend()\n",
    "ax[0].set_title('Moving Average')\n",
    "ax[1].plot(df_nc.index, df_nc.cycl, c='k')\n",
    "ax[1].set_title('Weekly Cyclicality')\n",
    "ax[2].plot(df_nc.index, df_nc.R2,c='k')\n",
    "ax[2].set_xlabel('Day Number')\n",
    "ax[2].set_ylabel('Remainder After Moving Average')\n",
    "ax[2].set_title('Remainder')\n",
    "for i in range(len(ax)):\n",
    "    ax[i].spines['right'].set_visible(False)\n",
    "    ax[i].spines['top'].set_visible(False)\n",
    "fig.set_size_inches(8,12)\n",
    "plt.show()"
   ]
  },
  {
   "cell_type": "code",
   "execution_count": null,
   "metadata": {},
   "outputs": [],
   "source": [
    "fig,ax = plt.subplots(4,1, sharex=True)\n",
    "ax[0].plot(df_nc.index, df_nc.positiveIncrease, c='k', label='Data')\n",
    "#ax[0].set_xlabel('Day Number')\n",
    "ax[0].set_ylabel('Number of New Cases')\n",
    "#ax[0].legend()\n",
    "ax[0].set_title('New Covid Cases')\n",
    "ax[1].plot(df_nc.index,df_nc.mv_avg, c='k', label='Moving Avg.') # linestyle='--',\n",
    "ax[1].set_ylabel('Average Number of New Cases')\n",
    "ax[1].set_title('Moving Average')\n",
    "ax[2].plot(df_nc.index, df_nc.cycl, c='k')\n",
    "ax[2].set_ylabel('Average New Cases per Day of Week')\n",
    "ax[2].set_title('Weekly Cyclicality')\n",
    "ax[3].plot(df_nc.index, df_nc.R2,c='k')\n",
    "ax[3].set_xlabel('Day Number')\n",
    "ax[3].set_ylabel('Remainder After Moving Average')\n",
    "ax[3].set_title('Remainder')\n",
    "for i in range(len(ax)):\n",
    "    ax[i].spines['right'].set_visible(False)\n",
    "    ax[i].spines['top'].set_visible(False)\n",
    "fig.set_size_inches(8,16)\n",
    "plt.show()"
   ]
  },
  {
   "cell_type": "markdown",
   "metadata": {},
   "source": [
    "# Accuracy\n",
    "\n",
    "Sum of Squared Errors of Trend + Cyclicality versus Sum of Square Errors around mean new cases."
   ]
  },
  {
   "cell_type": "code",
   "execution_count": null,
   "metadata": {
    "scrolled": true
   },
   "outputs": [],
   "source": [
    "import numpy as np\n",
    "sse_model = (df_nc.R2**2).sum()\n",
    "sse_data = ((df_nc.positiveIncrease - df_nc.positiveIncrease.mean())**2).sum()\n",
    "print('Variation explained: %f' % ((sse_data-sse_model)/sse_data,))"
   ]
  },
  {
   "cell_type": "markdown",
   "metadata": {},
   "source": [
    "# Tickmarks\n",
    "\n",
    "Integer index values for the month are less than descriptive.  At a minimum, the year should be represented, if not the month.  Here is one way to create better tickmark labels."
   ]
  },
  {
   "cell_type": "code",
   "execution_count": null,
   "metadata": {},
   "outputs": [],
   "source": [
    "df_nc['date'].iloc[0]"
   ]
  },
  {
   "cell_type": "code",
   "execution_count": null,
   "metadata": {},
   "outputs": [],
   "source": [
    "months = ['Jan', 'Feb', 'Mar', 'Apr', 'May' , 'Jun', 'Jul' , 'Aug' , 'Sep', 'Oct', 'Nov', 'Dec']"
   ]
  },
  {
   "cell_type": "code",
   "execution_count": null,
   "metadata": {},
   "outputs": [],
   "source": [
    "df_nc['date'].iloc[0][0:4] + '-' + months[int(df_nc['date'].iloc[0][5:7]) - 1]"
   ]
  },
  {
   "cell_type": "code",
   "execution_count": null,
   "metadata": {},
   "outputs": [],
   "source": [
    "df_nc.shape[0]"
   ]
  },
  {
   "cell_type": "code",
   "execution_count": null,
   "metadata": {},
   "outputs": [],
   "source": [
    "qtrly_days = [90, 91, 92, 92]\n",
    "qtrly_days = [qtrly_days[i%4] for i in range(4 * int(df_nc.shape[0]/365))]\n",
    "qtrly_days"
   ]
  },
  {
   "cell_type": "code",
   "execution_count": null,
   "metadata": {},
   "outputs": [],
   "source": [
    "tickmarks = [sum(qtrly_days[:i]) for i in range(len(qtrly_days) + 1)]\n",
    "tickmarks"
   ]
  },
  {
   "cell_type": "code",
   "execution_count": null,
   "metadata": {},
   "outputs": [],
   "source": [
    "tickmark_labels = [df_nc['date'].iloc[i][0:4] + '-' + months[int(df_nc['date'].iloc[i][5:7]) - 1] for i in tickmarks]\n",
    "tickmark_labels"
   ]
  },
  {
   "cell_type": "markdown",
   "metadata": {},
   "source": [
    "# Graphs with Informative Tickmarks"
   ]
  },
  {
   "cell_type": "code",
   "execution_count": null,
   "metadata": {},
   "outputs": [],
   "source": [
    "fig,ax = plt.subplots(3,1, sharex=True)\n",
    "ax[0].plot(df_nc.index, df_nc.positiveIncrease, c='k', label='Data')\n",
    "ax[0].plot(df_nc.index,df_nc.mv_avg, c='r', linestyle='--', label='Moving Avg.')\n",
    "ax[0].set_xlabel('Day Number')\n",
    "ax[0].set_ylabel('Number of New Cases')\n",
    "ax[0].legend()\n",
    "ax[0].set_title('Moving Average')\n",
    "'''      Tickmark code      '''\n",
    "ax[0].xaxis.set_ticks(tickmarks)\n",
    "ax[0].xaxis.set_ticklabels(tickmark_labels)\n",
    "'''                         '''\n",
    "ax[1].plot(df_nc.index, df_nc.cycl, c='k')\n",
    "ax[1].set_title('Weekly Cyclicality')\n",
    "ax[2].plot(df_nc.index, df_nc.R2,c='k')\n",
    "ax[2].set_xlabel('Day Number')\n",
    "ax[2].set_ylabel('Remainder After Moving Average')\n",
    "ax[2].set_title('Remainder')\n",
    "for i in range(len(ax)):\n",
    "    ax[i].spines['right'].set_visible(False)\n",
    "    ax[i].spines['top'].set_visible(False)\n",
    "fig.set_size_inches(8,12)\n",
    "plt.show()"
   ]
  },
  {
   "cell_type": "code",
   "execution_count": null,
   "metadata": {},
   "outputs": [],
   "source": [
    "fig,ax = plt.subplots(4,1, sharex=True)\n",
    "ax[0].plot(df_nc.index, df_nc.positiveIncrease, c='k', label='Data')\n",
    "#ax[0].set_xlabel('Day Number')\n",
    "ax[0].set_ylabel('Number of New Cases')\n",
    "#ax[0].legend()\n",
    "ax[0].set_title('New Covid Cases')\n",
    "'''      Tickmark code      '''\n",
    "ax[0].xaxis.set_ticks(tickmarks)\n",
    "ax[0].xaxis.set_ticklabels(tickmark_labels)\n",
    "'''                         '''\n",
    "ax[1].plot(df_nc.index,df_nc.mv_avg, c='k', label='Moving Avg.') # linestyle='--',\n",
    "ax[1].set_ylabel('Average Number of New Cases')\n",
    "ax[1].set_title('Moving Average')\n",
    "ax[2].plot(df_nc.index, df_nc.cycl, c='k')\n",
    "ax[2].set_ylabel('Average New Cases per Day of Week')\n",
    "ax[2].set_title('Weekly Cyclicality')\n",
    "ax[3].plot(df_nc.index, df_nc.R2,c='k')\n",
    "ax[3].set_xlabel('Day Number')\n",
    "ax[3].set_ylabel('Remainder After Moving Average')\n",
    "ax[3].set_title('Remainder')\n",
    "for i in range(len(ax)):\n",
    "    ax[i].spines['right'].set_visible(False)\n",
    "    ax[i].spines['top'].set_visible(False)\n",
    "fig.set_size_inches(8,16)\n",
    "fig.savefig('tsa_1.jpg', dpi=600)\n",
    "plt.show()"
   ]
  },
  {
   "cell_type": "code",
   "execution_count": null,
   "metadata": {},
   "outputs": [],
   "source": [
    "fig,ax = plt.subplots(3,1, sharex=True)\n",
    "ax[0].plot(df_nc.index, df_nc.positiveIncrease, c='k', label='Data')\n",
    "ax[0].plot(df_nc.index,df_nc.mv_avg, c='r', linestyle='--', label='Moving Avg.')\n",
    "ax[0].set_ylabel('Number of New Cases')\n",
    "ax[0].xaxis.set_ticks(tickmarks)\n",
    "ax[0].xaxis.set_ticklabels(tickmark_labels)\n",
    "ax[0].legend()\n",
    "ax[0].set_title('Moving Average')\n",
    "ax[1].plot(df_nc.index, df_nc.cycl, c='k')\n",
    "ax[1].set_title('Weekly Cyclicality')\n",
    "ax[2].plot(df_nc.index, df_nc.R2,c='k')\n",
    "ax[2].set_xlabel('Date')\n",
    "ax[2].set_ylabel('Remainder After Moving Average')\n",
    "ax[2].set_title('Remainder')\n",
    "for i in range(len(ax)):\n",
    "    ax[i].spines['right'].set_visible(False)\n",
    "    ax[i].spines['top'].set_visible(False)\n",
    "fig.set_size_inches(8,12)\n",
    "fig.savefig('tsa_2.jpg', dpi=600)\n",
    "plt.show()"
   ]
  },
  {
   "cell_type": "code",
   "execution_count": null,
   "metadata": {},
   "outputs": [],
   "source": [
    "fig,ax = plt.subplots(3,1, sharex=True)\n",
    "ax[0].plot(df_nc.index, df_nc.positiveIncrease, c='k', label='Data')\n",
    "ax[0].plot(df_nc.index,df_nc.mv_avg, c='r', linestyle='--', label='Moving Avg.')\n",
    "ax[0].set_ylabel('Number of New Cases')\n",
    "ax[0].xaxis.set_ticks(tickmarks)\n",
    "ax[0].xaxis.set_ticklabels(tickmark_labels)\n",
    "ax[0].legend()\n",
    "ax[0].set_title('Trend')\n",
    "ax[1].plot(df_nc.index, df_nc.cycl, c='k')\n",
    "ax[1].set_title('Weekly Cyclicality')\n",
    "ax[2].plot(df_nc.index, df_nc.R2,c='k')\n",
    "ax[2].set_xlabel('Date')\n",
    "ax[2].set_ylabel('Remainder After Moving Average')\n",
    "ax[2].set_title('Remainder')\n",
    "for i in range(len(ax)):\n",
    "    ax[i].spines['right'].set_visible(False)\n",
    "    ax[i].spines['top'].set_visible(False)\n",
    "fig.set_size_inches(8,12)\n",
    "fig.savefig('tsa_3.jpg', dpi=600)\n",
    "plt.show()"
   ]
  },
  {
   "cell_type": "code",
   "execution_count": null,
   "metadata": {},
   "outputs": [],
   "source": [
    "fig,ax = plt.subplots(4,1, sharex=True)\n",
    "ax[0].plot(df_nc.index, df_nc.positiveIncrease, c='k', label='Data')\n",
    "#ax[0].set_xlabel('Day Number')\n",
    "ax[0].set_ylabel('Number of New Cases')\n",
    "#ax[0].legend()\n",
    "ax[0].set_title('New Covid Cases')\n",
    "'''      Tickmark code      '''\n",
    "ax[0].xaxis.set_ticks(tickmarks)\n",
    "ax[0].xaxis.set_ticklabels(tickmark_labels)\n",
    "'''                         '''\n",
    "ax[1].plot(df_nc.index,df_nc.mv_avg, c='k', label='Moving Avg.') # linestyle='--',\n",
    "ax[1].set_ylabel('Average Number of New Cases')\n",
    "ax[1].set_title('Trend')\n",
    "ax[2].plot(df_nc.index, df_nc.cycl, c='k')\n",
    "ax[2].set_ylabel('Average New Cases per Day of Week')\n",
    "ax[2].set_title('Weekly Cyclicality')\n",
    "ax[3].plot(df_nc.index, df_nc.R2,c='k')\n",
    "ax[3].set_xlabel('Date')\n",
    "ax[3].set_ylabel('Remainder After Moving Average')\n",
    "ax[3].set_title('Remainder')\n",
    "for i in range(len(ax)):\n",
    "    ax[i].spines['right'].set_visible(False)\n",
    "    ax[i].spines['top'].set_visible(False)\n",
    "fig.set_size_inches(8,16)\n",
    "fig.savefig('tsa_4.jpg', dpi=600)\n",
    "plt.show()"
   ]
  },
  {
   "cell_type": "code",
   "execution_count": null,
   "metadata": {},
   "outputs": [],
   "source": [
    "fig,ax = plt.subplots(2,1, sharex=True)\n",
    "ax[0].plot(df_nc.index, df_nc.positiveIncrease, c='k', label='Data')\n",
    "ax[0].plot(df_nc.index,df_nc.mv_avg, c='r', linestyle='--', label='Moving Avg.')\n",
    "ax[0].set_ylabel('Number of New Cases')\n",
    "ax[0].xaxis.set_ticks(tickmarks)\n",
    "ax[0].xaxis.set_ticklabels(tickmark_labels)\n",
    "ax[0].legend()\n",
    "ax[0].set_title('Trend')\n",
    "ax[1].plot(df_nc.index, df_nc.cycl, c='k')\n",
    "ax[1].set_title('Weekly Cyclicality')\n",
    "ax[1].set_xlabel('Date')\n",
    "for i in range(len(ax)):\n",
    "    ax[i].spines['right'].set_visible(False)\n",
    "    ax[i].spines['top'].set_visible(False)\n",
    "fig.set_size_inches(8,12)\n",
    "fig.savefig('tsa_5.jpg', dpi=600)\n",
    "plt.show()"
   ]
  },
  {
   "cell_type": "code",
   "execution_count": null,
   "metadata": {},
   "outputs": [],
   "source": [
    "fig,ax = plt.subplots(3,1, sharex=True)\n",
    "ax[0].plot(df_nc.index, df_nc.positiveIncrease, c='k', label='Data')\n",
    "#ax[0].set_xlabel('Day Number')\n",
    "ax[0].set_ylabel('Number of New Cases')\n",
    "#ax[0].legend()\n",
    "ax[0].set_title('New Covid Cases')\n",
    "'''      Tickmark code      '''\n",
    "ax[0].xaxis.set_ticks(tickmarks)\n",
    "ax[0].xaxis.set_ticklabels(tickmark_labels)\n",
    "'''                         '''\n",
    "ax[1].plot(df_nc.index,df_nc.mv_avg, c='k', label='Moving Avg.') # linestyle='--',\n",
    "ax[1].set_ylabel('Average Number of New Cases')\n",
    "ax[1].set_title('Trend')\n",
    "ax[2].plot(df_nc.index, df_nc.cycl, c='k')\n",
    "ax[2].set_ylabel('Average New Cases per Day of Week')\n",
    "ax[2].set_title('Weekly Cyclicality')\n",
    "ax[2].set_xlabel('Date')\n",
    "for i in range(len(ax)):\n",
    "    ax[i].spines['right'].set_visible(False)\n",
    "    ax[i].spines['top'].set_visible(False)\n",
    "fig.set_size_inches(8,12)\n",
    "fig.savefig('tsa_6.jpg', dpi=600)\n",
    "plt.show()"
   ]
  },
  {
   "cell_type": "markdown",
   "metadata": {},
   "source": [
    "# Reporting Results in a Presentation\n",
    "\n",
    "![CovidGraphs](CovidGraphs/Slide1.jpg)\n",
    "![CovidGraphs](CovidGraphs/Slide2.jpg)\n",
    "![CovidGraphs](CovidGraphs/Slide3.jpg)\n",
    "![CovidGraphs](CovidGraphs/Slide4.jpg)\n",
    "![CovidGraphs](CovidGraphs/Slide5.jpg)\n",
    "![CovidGraphs](CovidGraphs/Slide6.jpg)\n",
    "![CovidGraphs](CovidGraphs/Slide7.jpg)"
   ]
  },
  {
   "cell_type": "code",
   "execution_count": null,
   "metadata": {},
   "outputs": [],
   "source": []
  }
 ],
 "metadata": {
  "kernelspec": {
   "display_name": "Python 3",
   "language": "python",
   "name": "python3"
  },
  "language_info": {
   "codemirror_mode": {
    "name": "ipython",
    "version": 3
   },
   "file_extension": ".py",
   "mimetype": "text/x-python",
   "name": "python",
   "nbconvert_exporter": "python",
   "pygments_lexer": "ipython3",
   "version": "3.8.5"
  }
 },
 "nbformat": 4,
 "nbformat_minor": 4
}
